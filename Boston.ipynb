{
  "nbformat": 4,
  "nbformat_minor": 0,
  "metadata": {
    "colab": {
      "provenance": []
    },
    "kernelspec": {
      "name": "python3",
      "display_name": "Python 3"
    },
    "language_info": {
      "name": "python"
    }
  },
  "cells": [
    {
      "cell_type": "code",
      "source": [
        "pip install scikit-learn==1.1.3"
      ],
      "metadata": {
        "colab": {
          "base_uri": "https://localhost:8080/"
        },
        "id": "NqqBVXTPoII_",
        "outputId": "4785b2f1-db1d-4f0d-d126-f64c664ebfa8"
      },
      "execution_count": null,
      "outputs": [
        {
          "output_type": "stream",
          "name": "stdout",
          "text": [
            "Looking in indexes: https://pypi.org/simple, https://us-python.pkg.dev/colab-wheels/public/simple/\n",
            "Requirement already satisfied: scikit-learn==1.1.3 in /usr/local/lib/python3.10/dist-packages (1.1.3)\n",
            "Requirement already satisfied: numpy>=1.17.3 in /usr/local/lib/python3.10/dist-packages (from scikit-learn==1.1.3) (1.22.4)\n",
            "Requirement already satisfied: scipy>=1.3.2 in /usr/local/lib/python3.10/dist-packages (from scikit-learn==1.1.3) (1.10.1)\n",
            "Requirement already satisfied: joblib>=1.0.0 in /usr/local/lib/python3.10/dist-packages (from scikit-learn==1.1.3) (1.2.0)\n",
            "Requirement already satisfied: threadpoolctl>=2.0.0 in /usr/local/lib/python3.10/dist-packages (from scikit-learn==1.1.3) (3.1.0)\n"
          ]
        }
      ]
    },
    {
      "cell_type": "code",
      "execution_count": null,
      "metadata": {
        "id": "0HwfgDrKnoQ2"
      },
      "outputs": [],
      "source": [
        "import numpy as np\n",
        "from sklearn.datasets import load_boston\n",
        "from sklearn.model_selection import train_test_split\n",
        "from sklearn.linear_model import LinearRegression\n",
        "from sklearn.metrics import mean_squared_error\n",
        "import tensorflow as tf\n",
        "from tensorflow import keras\n",
        "from sklearn.preprocessing import StandardScaler"
      ]
    },
    {
      "cell_type": "code",
      "source": [
        "#Load the dataset\n",
        "boston = load_boston()\n",
        "X, y = boston.data, boston.target"
      ],
      "metadata": {
        "id": "rkt9GDwun1sS"
      },
      "execution_count": null,
      "outputs": []
    },
    {
      "cell_type": "code",
      "source": [
        "# Split the data into training and test sets\n",
        "X_train, X_test, y_train, y_test = train_test_split(X, y, test_size=0.2, random_state=42)\n"
      ],
      "metadata": {
        "id": "RK_fnYCKn2Jv"
      },
      "execution_count": null,
      "outputs": []
    },
    {
      "cell_type": "code",
      "source": [
        "# Create a linear regression model\n",
        "linear_model = LinearRegression()\n",
        "\n",
        "\n"
      ],
      "metadata": {
        "id": "U8WQyZ-JQAxN"
      },
      "execution_count": null,
      "outputs": []
    },
    {
      "cell_type": "code",
      "source": [
        "# Train the linear regression model\n",
        "linear_model.fit(X_train, y_train)"
      ],
      "metadata": {
        "colab": {
          "base_uri": "https://localhost:8080/",
          "height": 74
        },
        "id": "Hq9dlB9AQMxG",
        "outputId": "4b609ab8-36a4-4d76-ad30-f185b7e266a0"
      },
      "execution_count": null,
      "outputs": [
        {
          "output_type": "execute_result",
          "data": {
            "text/plain": [
              "LinearRegression()"
            ],
            "text/html": [
              "<style>#sk-container-id-3 {color: black;background-color: white;}#sk-container-id-3 pre{padding: 0;}#sk-container-id-3 div.sk-toggleable {background-color: white;}#sk-container-id-3 label.sk-toggleable__label {cursor: pointer;display: block;width: 100%;margin-bottom: 0;padding: 0.3em;box-sizing: border-box;text-align: center;}#sk-container-id-3 label.sk-toggleable__label-arrow:before {content: \"▸\";float: left;margin-right: 0.25em;color: #696969;}#sk-container-id-3 label.sk-toggleable__label-arrow:hover:before {color: black;}#sk-container-id-3 div.sk-estimator:hover label.sk-toggleable__label-arrow:before {color: black;}#sk-container-id-3 div.sk-toggleable__content {max-height: 0;max-width: 0;overflow: hidden;text-align: left;background-color: #f0f8ff;}#sk-container-id-3 div.sk-toggleable__content pre {margin: 0.2em;color: black;border-radius: 0.25em;background-color: #f0f8ff;}#sk-container-id-3 input.sk-toggleable__control:checked~div.sk-toggleable__content {max-height: 200px;max-width: 100%;overflow: auto;}#sk-container-id-3 input.sk-toggleable__control:checked~label.sk-toggleable__label-arrow:before {content: \"▾\";}#sk-container-id-3 div.sk-estimator input.sk-toggleable__control:checked~label.sk-toggleable__label {background-color: #d4ebff;}#sk-container-id-3 div.sk-label input.sk-toggleable__control:checked~label.sk-toggleable__label {background-color: #d4ebff;}#sk-container-id-3 input.sk-hidden--visually {border: 0;clip: rect(1px 1px 1px 1px);clip: rect(1px, 1px, 1px, 1px);height: 1px;margin: -1px;overflow: hidden;padding: 0;position: absolute;width: 1px;}#sk-container-id-3 div.sk-estimator {font-family: monospace;background-color: #f0f8ff;border: 1px dotted black;border-radius: 0.25em;box-sizing: border-box;margin-bottom: 0.5em;}#sk-container-id-3 div.sk-estimator:hover {background-color: #d4ebff;}#sk-container-id-3 div.sk-parallel-item::after {content: \"\";width: 100%;border-bottom: 1px solid gray;flex-grow: 1;}#sk-container-id-3 div.sk-label:hover label.sk-toggleable__label {background-color: #d4ebff;}#sk-container-id-3 div.sk-serial::before {content: \"\";position: absolute;border-left: 1px solid gray;box-sizing: border-box;top: 0;bottom: 0;left: 50%;z-index: 0;}#sk-container-id-3 div.sk-serial {display: flex;flex-direction: column;align-items: center;background-color: white;padding-right: 0.2em;padding-left: 0.2em;position: relative;}#sk-container-id-3 div.sk-item {position: relative;z-index: 1;}#sk-container-id-3 div.sk-parallel {display: flex;align-items: stretch;justify-content: center;background-color: white;position: relative;}#sk-container-id-3 div.sk-item::before, #sk-container-id-3 div.sk-parallel-item::before {content: \"\";position: absolute;border-left: 1px solid gray;box-sizing: border-box;top: 0;bottom: 0;left: 50%;z-index: -1;}#sk-container-id-3 div.sk-parallel-item {display: flex;flex-direction: column;z-index: 1;position: relative;background-color: white;}#sk-container-id-3 div.sk-parallel-item:first-child::after {align-self: flex-end;width: 50%;}#sk-container-id-3 div.sk-parallel-item:last-child::after {align-self: flex-start;width: 50%;}#sk-container-id-3 div.sk-parallel-item:only-child::after {width: 0;}#sk-container-id-3 div.sk-dashed-wrapped {border: 1px dashed gray;margin: 0 0.4em 0.5em 0.4em;box-sizing: border-box;padding-bottom: 0.4em;background-color: white;}#sk-container-id-3 div.sk-label label {font-family: monospace;font-weight: bold;display: inline-block;line-height: 1.2em;}#sk-container-id-3 div.sk-label-container {text-align: center;}#sk-container-id-3 div.sk-container {/* jupyter's `normalize.less` sets `[hidden] { display: none; }` but bootstrap.min.css set `[hidden] { display: none !important; }` so we also need the `!important` here to be able to override the default hidden behavior on the sphinx rendered scikit-learn.org. See: https://github.com/scikit-learn/scikit-learn/issues/21755 */display: inline-block !important;position: relative;}#sk-container-id-3 div.sk-text-repr-fallback {display: none;}</style><div id=\"sk-container-id-3\" class=\"sk-top-container\"><div class=\"sk-text-repr-fallback\"><pre>LinearRegression()</pre><b>In a Jupyter environment, please rerun this cell to show the HTML representation or trust the notebook. <br />On GitHub, the HTML representation is unable to render, please try loading this page with nbviewer.org.</b></div><div class=\"sk-container\" hidden><div class=\"sk-item\"><div class=\"sk-estimator sk-toggleable\"><input class=\"sk-toggleable__control sk-hidden--visually\" id=\"sk-estimator-id-3\" type=\"checkbox\" checked><label for=\"sk-estimator-id-3\" class=\"sk-toggleable__label sk-toggleable__label-arrow\">LinearRegression</label><div class=\"sk-toggleable__content\"><pre>LinearRegression()</pre></div></div></div></div></div>"
            ]
          },
          "metadata": {},
          "execution_count": 10
        }
      ]
    },
    {
      "cell_type": "code",
      "source": [
        "# Make predictions using linear regression\n",
        "linear_predictions = linear_model.predict(X_test)\n",
        "linear_mse = mean_squared_error(y_test, linear_predictions)\n",
        "print('Linear Regression Mean Squared Error:', linear_mse)"
      ],
      "metadata": {
        "colab": {
          "base_uri": "https://localhost:8080/"
        },
        "id": "D9bflmTXQPSf",
        "outputId": "4e034fc3-98b0-44ed-868d-216ae9bed219"
      },
      "execution_count": null,
      "outputs": [
        {
          "output_type": "stream",
          "name": "stdout",
          "text": [
            "Linear Regression Mean Squared Error: 24.291119474973485\n"
          ]
        }
      ]
    },
    {
      "cell_type": "code",
      "source": [
        "# Normalize the data for the deep neural network\n",
        "scaler = StandardScaler()\n",
        "X_train_scaled = scaler.fit_transform(X_train)\n",
        "X_test_scaled = scaler.transform(X_test)"
      ],
      "metadata": {
        "id": "f3z8UNpFQWT-"
      },
      "execution_count": null,
      "outputs": []
    },
    {
      "cell_type": "code",
      "source": [
        "# Define the model architecture for the deep neural network\n",
        "model = keras.Sequential([\n",
        "    keras.layers.Dense(64, activation='relu', input_shape=(X_train.shape[1],)),\n",
        "    keras.layers.Dense(64, activation='relu'),\n",
        "    keras.layers.Dense(1)\n",
        "])"
      ],
      "metadata": {
        "id": "6dO-Lgs8QZhv"
      },
      "execution_count": null,
      "outputs": []
    },
    {
      "cell_type": "code",
      "source": [
        "model.compile(optimizer='adam', loss='mean_squared_error')"
      ],
      "metadata": {
        "id": "WOCC8YbeQfN-"
      },
      "execution_count": null,
      "outputs": []
    },
    {
      "cell_type": "code",
      "source": [
        "# Train the model\n",
        "model.fit(X_train_scaled, y_train, epochs=100, batch_size=32, verbose=1)"
      ],
      "metadata": {
        "colab": {
          "base_uri": "https://localhost:8080/"
        },
        "id": "FRQRWpxMQkG3",
        "outputId": "7f0636b0-a1d2-4889-d046-2040aa88cd0a"
      },
      "execution_count": null,
      "outputs": [
        {
          "output_type": "stream",
          "name": "stdout",
          "text": [
            "Epoch 1/100\n",
            "13/13 [==============================] - 1s 2ms/step - loss: 566.6693\n",
            "Epoch 2/100\n",
            "13/13 [==============================] - 0s 2ms/step - loss: 505.0235\n",
            "Epoch 3/100\n",
            "13/13 [==============================] - 0s 3ms/step - loss: 418.0002\n",
            "Epoch 4/100\n",
            "13/13 [==============================] - 0s 4ms/step - loss: 304.8324\n",
            "Epoch 5/100\n",
            "13/13 [==============================] - 0s 4ms/step - loss: 184.7549\n",
            "Epoch 6/100\n",
            "13/13 [==============================] - 0s 3ms/step - loss: 104.3630\n",
            "Epoch 7/100\n",
            "13/13 [==============================] - 0s 4ms/step - loss: 73.0405\n",
            "Epoch 8/100\n",
            "13/13 [==============================] - 0s 3ms/step - loss: 55.6646\n",
            "Epoch 9/100\n",
            "13/13 [==============================] - 0s 3ms/step - loss: 42.7851\n",
            "Epoch 10/100\n",
            "13/13 [==============================] - 0s 3ms/step - loss: 35.9602\n",
            "Epoch 11/100\n",
            "13/13 [==============================] - 0s 3ms/step - loss: 31.4800\n",
            "Epoch 12/100\n",
            "13/13 [==============================] - 0s 3ms/step - loss: 28.6720\n",
            "Epoch 13/100\n",
            "13/13 [==============================] - 0s 4ms/step - loss: 26.4950\n",
            "Epoch 14/100\n",
            "13/13 [==============================] - 0s 5ms/step - loss: 24.6342\n",
            "Epoch 15/100\n",
            "13/13 [==============================] - 0s 7ms/step - loss: 23.1308\n",
            "Epoch 16/100\n",
            "13/13 [==============================] - 0s 7ms/step - loss: 21.7201\n",
            "Epoch 17/100\n",
            "13/13 [==============================] - 0s 8ms/step - loss: 20.6096\n",
            "Epoch 18/100\n",
            "13/13 [==============================] - 0s 7ms/step - loss: 19.6352\n",
            "Epoch 19/100\n",
            "13/13 [==============================] - 0s 8ms/step - loss: 18.8088\n",
            "Epoch 20/100\n",
            "13/13 [==============================] - 0s 6ms/step - loss: 18.0312\n",
            "Epoch 21/100\n",
            "13/13 [==============================] - 0s 6ms/step - loss: 17.3829\n",
            "Epoch 22/100\n",
            "13/13 [==============================] - 0s 7ms/step - loss: 16.7300\n",
            "Epoch 23/100\n",
            "13/13 [==============================] - 0s 6ms/step - loss: 16.2311\n",
            "Epoch 24/100\n",
            "13/13 [==============================] - 0s 7ms/step - loss: 15.7573\n",
            "Epoch 25/100\n",
            "13/13 [==============================] - 0s 6ms/step - loss: 15.2819\n",
            "Epoch 26/100\n",
            "13/13 [==============================] - 0s 7ms/step - loss: 15.0099\n",
            "Epoch 27/100\n",
            "13/13 [==============================] - 0s 5ms/step - loss: 14.4750\n",
            "Epoch 28/100\n",
            "13/13 [==============================] - 0s 5ms/step - loss: 14.1826\n",
            "Epoch 29/100\n",
            "13/13 [==============================] - 0s 6ms/step - loss: 13.8631\n",
            "Epoch 30/100\n",
            "13/13 [==============================] - 0s 5ms/step - loss: 13.5545\n",
            "Epoch 31/100\n",
            "13/13 [==============================] - 0s 7ms/step - loss: 13.2671\n",
            "Epoch 32/100\n",
            "13/13 [==============================] - 0s 5ms/step - loss: 13.0881\n",
            "Epoch 33/100\n",
            "13/13 [==============================] - 0s 7ms/step - loss: 12.7823\n",
            "Epoch 34/100\n",
            "13/13 [==============================] - 0s 8ms/step - loss: 12.6787\n",
            "Epoch 35/100\n",
            "13/13 [==============================] - 0s 8ms/step - loss: 12.4267\n",
            "Epoch 36/100\n",
            "13/13 [==============================] - 0s 5ms/step - loss: 12.2184\n",
            "Epoch 37/100\n",
            "13/13 [==============================] - 0s 5ms/step - loss: 12.0284\n",
            "Epoch 38/100\n",
            "13/13 [==============================] - 0s 7ms/step - loss: 11.8135\n",
            "Epoch 39/100\n",
            "13/13 [==============================] - 0s 12ms/step - loss: 11.7143\n",
            "Epoch 40/100\n",
            "13/13 [==============================] - 0s 5ms/step - loss: 11.8778\n",
            "Epoch 41/100\n",
            "13/13 [==============================] - 0s 5ms/step - loss: 11.6735\n",
            "Epoch 42/100\n",
            "13/13 [==============================] - 0s 6ms/step - loss: 11.4596\n",
            "Epoch 43/100\n",
            "13/13 [==============================] - 0s 5ms/step - loss: 11.2319\n",
            "Epoch 44/100\n",
            "13/13 [==============================] - 0s 6ms/step - loss: 11.0477\n",
            "Epoch 45/100\n",
            "13/13 [==============================] - 0s 8ms/step - loss: 10.9298\n",
            "Epoch 46/100\n",
            "13/13 [==============================] - 0s 8ms/step - loss: 10.7969\n",
            "Epoch 47/100\n",
            "13/13 [==============================] - 0s 4ms/step - loss: 10.7154\n",
            "Epoch 48/100\n",
            "13/13 [==============================] - 0s 6ms/step - loss: 10.6296\n",
            "Epoch 49/100\n",
            "13/13 [==============================] - 0s 6ms/step - loss: 10.4684\n",
            "Epoch 50/100\n",
            "13/13 [==============================] - 0s 8ms/step - loss: 10.3941\n",
            "Epoch 51/100\n",
            "13/13 [==============================] - 0s 5ms/step - loss: 10.2686\n",
            "Epoch 52/100\n",
            "13/13 [==============================] - 0s 6ms/step - loss: 10.1809\n",
            "Epoch 53/100\n",
            "13/13 [==============================] - 0s 5ms/step - loss: 10.2000\n",
            "Epoch 54/100\n",
            "13/13 [==============================] - 0s 7ms/step - loss: 9.9889\n",
            "Epoch 55/100\n",
            "13/13 [==============================] - 0s 9ms/step - loss: 10.0150\n",
            "Epoch 56/100\n",
            "13/13 [==============================] - 0s 7ms/step - loss: 9.9075\n",
            "Epoch 57/100\n",
            "13/13 [==============================] - 0s 8ms/step - loss: 9.7476\n",
            "Epoch 58/100\n",
            "13/13 [==============================] - 0s 3ms/step - loss: 9.8115\n",
            "Epoch 59/100\n",
            "13/13 [==============================] - 0s 3ms/step - loss: 9.6248\n",
            "Epoch 60/100\n",
            "13/13 [==============================] - 0s 4ms/step - loss: 9.5477\n",
            "Epoch 61/100\n",
            "13/13 [==============================] - 0s 8ms/step - loss: 9.5981\n",
            "Epoch 62/100\n",
            "13/13 [==============================] - 0s 5ms/step - loss: 9.4511\n",
            "Epoch 63/100\n",
            "13/13 [==============================] - 0s 7ms/step - loss: 9.4417\n",
            "Epoch 64/100\n",
            "13/13 [==============================] - 0s 3ms/step - loss: 9.3395\n",
            "Epoch 65/100\n",
            "13/13 [==============================] - 0s 4ms/step - loss: 9.3463\n",
            "Epoch 66/100\n",
            "13/13 [==============================] - 0s 3ms/step - loss: 9.2026\n",
            "Epoch 67/100\n",
            "13/13 [==============================] - 0s 5ms/step - loss: 9.2071\n",
            "Epoch 68/100\n",
            "13/13 [==============================] - 0s 4ms/step - loss: 9.1939\n",
            "Epoch 69/100\n",
            "13/13 [==============================] - 0s 7ms/step - loss: 9.0747\n",
            "Epoch 70/100\n",
            "13/13 [==============================] - 0s 6ms/step - loss: 9.0244\n",
            "Epoch 71/100\n",
            "13/13 [==============================] - 0s 3ms/step - loss: 8.9895\n",
            "Epoch 72/100\n",
            "13/13 [==============================] - 0s 4ms/step - loss: 8.8850\n",
            "Epoch 73/100\n",
            "13/13 [==============================] - 0s 6ms/step - loss: 8.7924\n",
            "Epoch 74/100\n",
            "13/13 [==============================] - 0s 4ms/step - loss: 8.7834\n",
            "Epoch 75/100\n",
            "13/13 [==============================] - 0s 5ms/step - loss: 8.7799\n",
            "Epoch 76/100\n",
            "13/13 [==============================] - 0s 3ms/step - loss: 8.6087\n",
            "Epoch 77/100\n",
            "13/13 [==============================] - 0s 5ms/step - loss: 8.6360\n",
            "Epoch 78/100\n",
            "13/13 [==============================] - 0s 5ms/step - loss: 8.5098\n",
            "Epoch 79/100\n",
            "13/13 [==============================] - 0s 3ms/step - loss: 8.5327\n",
            "Epoch 80/100\n",
            "13/13 [==============================] - 0s 4ms/step - loss: 8.4689\n",
            "Epoch 81/100\n",
            "13/13 [==============================] - 0s 5ms/step - loss: 8.4216\n",
            "Epoch 82/100\n",
            "13/13 [==============================] - 0s 6ms/step - loss: 8.3348\n",
            "Epoch 83/100\n",
            "13/13 [==============================] - 0s 3ms/step - loss: 8.2887\n",
            "Epoch 84/100\n",
            "13/13 [==============================] - 0s 4ms/step - loss: 8.2401\n",
            "Epoch 85/100\n",
            "13/13 [==============================] - 0s 6ms/step - loss: 8.1867\n",
            "Epoch 86/100\n",
            "13/13 [==============================] - 0s 4ms/step - loss: 8.1744\n",
            "Epoch 87/100\n",
            "13/13 [==============================] - 0s 6ms/step - loss: 8.2750\n",
            "Epoch 88/100\n",
            "13/13 [==============================] - 0s 7ms/step - loss: 8.2450\n",
            "Epoch 89/100\n",
            "13/13 [==============================] - 0s 7ms/step - loss: 8.1110\n",
            "Epoch 90/100\n",
            "13/13 [==============================] - 0s 5ms/step - loss: 8.0408\n",
            "Epoch 91/100\n",
            "13/13 [==============================] - 0s 3ms/step - loss: 8.0530\n",
            "Epoch 92/100\n",
            "13/13 [==============================] - 0s 3ms/step - loss: 7.8603\n",
            "Epoch 93/100\n",
            "13/13 [==============================] - 0s 3ms/step - loss: 7.9426\n",
            "Epoch 94/100\n",
            "13/13 [==============================] - 0s 4ms/step - loss: 7.9363\n",
            "Epoch 95/100\n",
            "13/13 [==============================] - 0s 3ms/step - loss: 7.8195\n",
            "Epoch 96/100\n",
            "13/13 [==============================] - 0s 5ms/step - loss: 7.8096\n",
            "Epoch 97/100\n",
            "13/13 [==============================] - 0s 5ms/step - loss: 7.7212\n",
            "Epoch 98/100\n",
            "13/13 [==============================] - 0s 4ms/step - loss: 7.7737\n",
            "Epoch 99/100\n",
            "13/13 [==============================] - 0s 3ms/step - loss: 7.5786\n",
            "Epoch 100/100\n",
            "13/13 [==============================] - 0s 3ms/step - loss: 7.6295\n"
          ]
        },
        {
          "output_type": "execute_result",
          "data": {
            "text/plain": [
              "<keras.callbacks.History at 0x7fe94be989a0>"
            ]
          },
          "metadata": {},
          "execution_count": 15
        }
      ]
    },
    {
      "cell_type": "code",
      "source": [
        "\n",
        "# Evaluate the model\n",
        "mse = model.evaluate(X_test_scaled, y_test)\n",
        "print('Deep Neural Network Mean Squared Error:', mse)"
      ],
      "metadata": {
        "colab": {
          "base_uri": "https://localhost:8080/"
        },
        "id": "MBcXAZoXQqBe",
        "outputId": "3fcdb43b-6e93-4862-e3e2-45c6cc586d9e"
      },
      "execution_count": null,
      "outputs": [
        {
          "output_type": "stream",
          "name": "stdout",
          "text": [
            "4/4 [==============================] - 0s 5ms/step - loss: 11.6318\n",
            "Deep Neural Network Mean Squared Error: 11.631841659545898\n"
          ]
        }
      ]
    },
    {
      "cell_type": "code",
      "source": [
        "predictions = model.predict(X_test_scaled)"
      ],
      "metadata": {
        "id": "kVerqwvNR-2l",
        "outputId": "a6299174-9ade-49fb-e7ef-5ebddde70e79",
        "colab": {
          "base_uri": "https://localhost:8080/"
        }
      },
      "execution_count": null,
      "outputs": [
        {
          "output_type": "stream",
          "name": "stdout",
          "text": [
            "4/4 [==============================] - 0s 3ms/step\n"
          ]
        }
      ]
    },
    {
      "cell_type": "code",
      "source": [
        "for i in range(10):\n",
        "    print('Predicted Price:', predictions[i][0], 'Actual Price:', y_test[i])"
      ],
      "metadata": {
        "id": "N2_ykDJlSBCl",
        "outputId": "dd6956c6-7ace-456f-812a-7383c7b1bab1",
        "colab": {
          "base_uri": "https://localhost:8080/"
        }
      },
      "execution_count": null,
      "outputs": [
        {
          "output_type": "stream",
          "name": "stdout",
          "text": [
            "Predicted Price: 27.227415 Actual Price: 23.6\n",
            "Predicted Price: 33.792885 Actual Price: 32.4\n",
            "Predicted Price: 18.016724 Actual Price: 13.6\n",
            "Predicted Price: 24.926336 Actual Price: 22.8\n",
            "Predicted Price: 16.782368 Actual Price: 16.1\n",
            "Predicted Price: 18.946392 Actual Price: 20.0\n",
            "Predicted Price: 16.534842 Actual Price: 17.8\n",
            "Predicted Price: 13.306758 Actual Price: 14.0\n",
            "Predicted Price: 24.6098 Actual Price: 19.6\n",
            "Predicted Price: 17.288261 Actual Price: 16.8\n"
          ]
        }
      ]
    }
  ]
}